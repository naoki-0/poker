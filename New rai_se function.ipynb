{
 "cells": [
  {
   "cell_type": "code",
   "execution_count": null,
   "id": "ca87a5b3",
   "metadata": {},
   "outputs": [],
   "source": [
    "def rai_se(n,money):\n",
    "    global tips,f_tips,if_actioned\n",
    "    f_tips2 = f_tips\n",
    "    f_tips2.sort()\n",
    "    \n",
    "    if tips[n] + f_tips[n] < money or money <= max(f_tips) or max(f_tips) == 0:\n",
    "        print(\"You cannot raise\",money)\n",
    "        return False\n",
    "        \n",
    "    elif money < 2*max(f_tips) - f_tips2[-2] or money < 2BB:\n",
    "        if money == tips[n] + f_tips[n]:\n",
    "            tips[n] += f_tips[n] - money\n",
    "            f_tips[n] = money\n",
    "            if_actioned[n] = 1\n",
    "            return True\n",
    "        else:\n",
    "            print(\"You cannot raise.\")\n",
    "            return False\n",
    "    \n",
    "    else:\n",
    "        tips[n] += f_tips[n] - money\n",
    "        f_tips[n] = money\n",
    "        if_actioned[n] = 1\n",
    "        return True"
   ]
  }
 ],
 "metadata": {
  "kernelspec": {
   "display_name": "Python 3 (ipykernel)",
   "language": "python",
   "name": "python3"
  },
  "language_info": {
   "codemirror_mode": {
    "name": "ipython",
    "version": 3
   },
   "file_extension": ".py",
   "mimetype": "text/x-python",
   "name": "python",
   "nbconvert_exporter": "python",
   "pygments_lexer": "ipython3",
   "version": "3.9.7"
  }
 },
 "nbformat": 4,
 "nbformat_minor": 5
}
