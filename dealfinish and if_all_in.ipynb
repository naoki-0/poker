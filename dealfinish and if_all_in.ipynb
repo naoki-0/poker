{
 "cells": [
  {
   "cell_type": "code",
   "execution_count": null,
   "id": "9147ca20",
   "metadata": {},
   "outputs": [],
   "source": [
    "if_all_in = []\n",
    "for i in range(how_many_p):\n",
    "    if_all_in.append(0)\n",
    "    \n",
    "    \n",
    "#if if_dealfinish() returns 2,someone allined and a pot winner is ditermined.\n",
    "#if if_dealfinish() returns 1,everyone except one player folded and the player wins pot.\n",
    "#if if_dealfinish() returns 0,dealing will continue.\n",
    "    \n",
    "def if_dealfinish():\n",
    "    global if_all_in,if_noplay\n",
    "    for i in range(how_many_p):\n",
    "        if tips[i] == 0:\n",
    "            if_all_in[i] = 1\n",
    "            if_noplay[i] = 1\n",
    "            \n",
    "    z = collections.Counter(if_noplay)\n",
    "    y = collections.Counter(if_all_in)\n",
    "    if z[0] == 1 and z[1] == how_many_p - 1:\n",
    "        if len(y) == 2:\n",
    "            return 2\n",
    "        else:\n",
    "            return 1\n",
    "    elif z[1] == how_many_p:\n",
    "        return 2\n",
    "    else:\n",
    "        return 0\n"
   ]
  }
 ],
 "metadata": {
  "kernelspec": {
   "display_name": "Python 3 (ipykernel)",
   "language": "python",
   "name": "python3"
  },
  "language_info": {
   "codemirror_mode": {
    "name": "ipython",
    "version": 3
   },
   "file_extension": ".py",
   "mimetype": "text/x-python",
   "name": "python",
   "nbconvert_exporter": "python",
   "pygments_lexer": "ipython3",
   "version": "3.9.7"
  }
 },
 "nbformat": 4,
 "nbformat_minor": 5
}
