{
 "cells": [
  {
   "cell_type": "code",
   "execution_count": null,
   "id": "06c62b72",
   "metadata": {},
   "outputs": [],
   "source": [
    "f_tips = [0,0]\n",
    "\n",
    "\n",
    "import tkinter as tk\n",
    "from tkinter import ttk\n",
    "if __name__ == '__main__':\n",
    "    # Tkクラスのインスタンス化\n",
    "    window = tk.Tk()\n",
    "    #(1) ウィンドウの「タイトル」と「サイズ」を指定\n",
    "    window.title(\"Rainbow Text Box\")\n",
    "    window.geometry('600x400')\n",
    "    #(2)キャンバスの作成\n",
    "    # キャンバスの設定\n",
    "    canvas = tk.Canvas(window, width=300, height=200)\n",
    "    canvas.pack()\n",
    "    #(3)入力ボックスの作成\n",
    "    # 入力ボックスのラベル\n",
    "    elabel = ttk.Label(window, text = \"整数を入れてボタンを押してください\")\n",
    "    canvas.create_window(0, 80, window=elabel)\n",
    "    # 入力ボックスの生成・描画\n",
    "    entry = tk.Entry (window)\n",
    "    canvas.create_window(0, 100, window=entry)\n",
    " \n",
    "    #(4)ボタン押下時の処理定義\n",
    "    def getValue ():\n",
    "        tval = entry.get()\n",
    "        f_tips[0] = tval\n",
    "        print(f_tips)\n",
    "        window.destroy()\n",
    "    #(5)ボタンの作成\n",
    "    # ボタンの生成・描画\n",
    "    button = tk.Button(text='レイズする', command=getValue)\n",
    "    canvas.create_window(0, 130, window=button)\n",
    " \n",
    "    window.mainloop()"
   ]
  }
 ],
 "metadata": {
  "kernelspec": {
   "display_name": "Python 3 (ipykernel)",
   "language": "python",
   "name": "python3"
  },
  "language_info": {
   "codemirror_mode": {
    "name": "ipython",
    "version": 3
   },
   "file_extension": ".py",
   "mimetype": "text/x-python",
   "name": "python",
   "nbconvert_exporter": "python",
   "pygments_lexer": "ipython3",
   "version": "3.9.7"
  }
 },
 "nbformat": 4,
 "nbformat_minor": 5
}
